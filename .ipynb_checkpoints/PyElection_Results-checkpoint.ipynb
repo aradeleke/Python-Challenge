{
 "cells": [
  {
   "cell_type": "code",
   "execution_count": 18,
   "metadata": {},
   "outputs": [
    {
     "name": "stdout",
     "output_type": "stream",
     "text": [
      "Houston Mayoral Election Results\n",
      "---------------------------------------------\n",
      "Total Cast Votes: 237773\n",
      "---------------------------------------------\n",
      "Dwight A. Boykins: 5.89%  (14015)\n",
      "Bill King: 14.00%  (33281)\n",
      "Sylvester Turner: 46.37%  (110246)\n",
      "Tony Buzbee: 28.79%  (68463)\n",
      "Victoria Romero: 1.22%  (2907)\n",
      "Roy J. Vasquez: 0.65%  (1536)\n",
      "Demetria Smith: 0.71%  (1677)\n",
      "Sue Lovell: 1.22%  (2904)\n",
      "Derrick Broze: 0.28%  (672)\n",
      "Kendall Baker: 0.41%  (970)\n",
      "Johnny “J.T.” Taylor: 0.23%  (548)\n",
      "Naoufal Houjami: 0.23%  (554)\n",
      "---------------------------------------------\n",
      "1st Advancing Candidate: Sylvester Turner \n",
      "2nd Advancing Candidate: Tony Buzbee\n",
      "---------------------------------------------\n"
     ]
    }
   ],
   "source": [
    "import os\n",
    "import csv\n",
    "#set path for file\n",
    "full_path = os.getcwd()+\"\\PyElections_Resources.csv\"\n",
    "\n",
    "with open(full_path, encoding = 'utf-8') as csvfile:\n",
    "    csvreader = csv.reader(csvfile, delimiter = \",\")\n",
    "    next(csvreader)\n",
    "    dict_election_data = {}\n",
    "    for row in csvreader:\n",
    "        dict_election_data[row[2]] = [row[0], row[1]]\n",
    "\n",
    "#Total Cast Votes\n",
    "total_cast_votes = 0\n",
    "\n",
    "for key in dict_election_data.keys():\n",
    "    total_cast_votes = total_cast_votes + 1\n",
    "\n",
    "print(\"Houston Mayoral Election Results\")\n",
    "print(\"-\" *45)\n",
    "print(\"Total Cast Votes: {}\".format(total_cast_votes))\n",
    "\n",
    "dict_candidates_votes = {}\n",
    "\n",
    "for key, value in dict_election_data.items():\n",
    "    if dict_election_data[key][0] not in dict_candidates_votes:\n",
    "        dict_candidates_votes[dict_election_data[key][0]] = 1\n",
    "    else:\n",
    "        dict_candidates_votes[dict_election_data[key][0]] += 1\n",
    "\n",
    "print(\"-\" * 45)\n",
    "\n",
    "for key, value in dict_candidates_votes.items():\n",
    "    average_percentage = (value / total_cast_votes) * 100\n",
    "    print(\"{}: {:0.2f}%  ({})\".format(key, average_percentage, value))\n",
    "    \n",
    "print(\"-\" * 45)\n",
    "\n",
    "maximum_votes = max(dict_candidates_votes.values())\n",
    "second_maximum_votes = 0\n",
    "\n",
    "for key, value in dict_candidates_votes.items():\n",
    "    if value > second_maximum_votes and value < maximum_votes:\n",
    "        second_maximum_votes = value\n",
    "\n",
    "for key, value in dict_candidates_votes.items():\n",
    "    if value == maximum_votes:\n",
    "        first_advancing = key\n",
    "    elif value == second_maximum_votes:\n",
    "        second_advancing = key\n",
    "        \n",
    "print(\"1st Advancing Candidate: {} \".format(first_advancing))\n",
    "print(\"2nd Advancing Candidate: {}\".format(second_advancing))\n",
    "print(\"-\" * 45)"
   ]
  },
  {
   "cell_type": "code",
   "execution_count": null,
   "metadata": {},
   "outputs": [],
   "source": []
  }
 ],
 "metadata": {
  "kernelspec": {
   "display_name": "Python 3",
   "language": "python",
   "name": "python3"
  },
  "language_info": {
   "codemirror_mode": {
    "name": "ipython",
    "version": 3
   },
   "file_extension": ".py",
   "mimetype": "text/x-python",
   "name": "python",
   "nbconvert_exporter": "python",
   "pygments_lexer": "ipython3",
   "version": "3.7.4"
  }
 },
 "nbformat": 4,
 "nbformat_minor": 2
}
